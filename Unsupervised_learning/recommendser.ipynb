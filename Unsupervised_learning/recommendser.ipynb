{
 "cells": [
  {
   "cell_type": "code",
   "execution_count": null,
   "metadata": {},
   "outputs": [],
   "source": [
    "import pandas as pd\n",
    "import numpy as np\n",
    "import nltk\n",
    "from nltk.corpus import stopwords\n",
    "import textblob\n",
    "from sklearn.feature_extraction.text import CountVectorizer, TfidfVectorizer\n",
    "from sklearn.metrics.pairwise import cosine_similarity"
   ]
  },
  {
   "cell_type": "code",
   "execution_count": null,
   "metadata": {},
   "outputs": [],
   "source": [
    "url = '../data/imdb_raw.csv'\n",
    "df = pd.read_csv(url)\n",
    "df.head()"
   ]
  },
  {
   "cell_type": "code",
   "execution_count": null,
   "metadata": {},
   "outputs": [],
   "source": [
    "df['data'] = df['title'] + ' ' + df['director'] + ' ' +  df['genre']\n",
    "df['data']"
   ]
  },
  {
   "cell_type": "code",
   "execution_count": null,
   "metadata": {},
   "outputs": [],
   "source": [
    "#remove punctuations - anything that is not a word or a space\n",
    "df['data'] = df['data'].str.replace('[^\\w\\s]','')\n",
    "# Lower case\n",
    "df['data'] = df['data'].str.lower()"
   ]
  },
  {
   "cell_type": "code",
   "execution_count": null,
   "metadata": {},
   "outputs": [],
   "source": [
    "def remove_stopwords(text):\n",
    "    words = text.split()\n",
    "    return\" \".join(word for word in words if word not in stopwords.words('english'))\n",
    "df['data'] = df['data'].apply(remove_stopwords)\n",
    "df['data']"
   ]
  },
  {
   "cell_type": "code",
   "execution_count": null,
   "metadata": {},
   "outputs": [],
   "source": [
    "#vectorize the data\n",
    "vectorizer = CountVectorizer()\n",
    "X = vectorizer.fit_transform(df['data']).toarray()\n",
    "X.shape"
   ]
  },
  {
   "cell_type": "code",
   "execution_count": null,
   "metadata": {},
   "outputs": [],
   "source": [
    "# similarity matrix\n",
    "similarity = cosine_similarity(X, X)\n",
    "similarity.shape"
   ]
  },
  {
   "cell_type": "code",
   "execution_count": null,
   "metadata": {},
   "outputs": [],
   "source": [
    "def get_index_from_title(title):\n",
    "    try: \n",
    "        return df[df.title == title].index[0]\n",
    "    except:\n",
    "        return None\n",
    "\n",
    "def recommend_movie(title, Limit = 10):\n",
    "    index = get_index_from_title(title)\n",
    "    if index is None:\n",
    "        return []\n",
    "    else:\n",
    "        movie_scores = []\n",
    "        for i in range(similarity.shape[0]):\n",
    "            movie_scores.append((df['title'][i],similarity[index][i]))\n",
    "        movie_scores.sort(key=lambda x:x[1],reverse = True)\n",
    "        return movie_scores[1:Limit+1]"
   ]
  },
  {
   "cell_type": "code",
   "execution_count": null,
   "metadata": {},
   "outputs": [],
   "source": [
    "recommend_movie('Harry Potter and the Goblet of Fire',5)"
   ]
  },
  {
   "cell_type": "code",
   "execution_count": null,
   "metadata": {},
   "outputs": [],
   "source": []
  }
 ],
 "metadata": {
  "kernelspec": {
   "display_name": "base",
   "language": "python",
   "name": "python3"
  },
  "language_info": {
   "codemirror_mode": {
    "name": "ipython",
    "version": 3
   },
   "file_extension": ".py",
   "mimetype": "text/x-python",
   "name": "python",
   "nbconvert_exporter": "python",
   "pygments_lexer": "ipython3",
   "version": "3.11.4"
  }
 },
 "nbformat": 4,
 "nbformat_minor": 2
}
