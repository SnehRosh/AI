{
 "cells": [
  {
   "cell_type": "markdown",
   "metadata": {},
   "source": [
    "Convolutional Neural Network"
   ]
  },
  {
   "cell_type": "markdown",
   "metadata": {},
   "source": [
    "# fashion mnist dataset"
   ]
  },
  {
   "cell_type": "code",
   "execution_count": null,
   "metadata": {},
   "outputs": [],
   "source": [
    "import tensorflow as tf\n",
    "import numpy as np\n",
    "import matplotlib.pyplot as plt"
   ]
  },
  {
   "cell_type": "code",
   "execution_count": null,
   "metadata": {},
   "outputs": [],
   "source": [
    "fmnist = tf.keras.datasets.fashion_mnist\n",
    "(train_images, train_labels), (test_images, test_labels) = fmnist.load_data()"
   ]
  },
  {
   "cell_type": "code",
   "execution_count": null,
   "metadata": {},
   "outputs": [],
   "source": [
    "print(\"dataset info\")\n",
    "print(f'train_images shape: {train_images.shape}')\n",
    "print(f'train_labels shape: {train_labels.shape}')\n",
    "print(f'test_images shape: {test_images.shape}')\n",
    "print(f'test_labels shape: {test_labels.shape}')"
   ]
  },
  {
   "cell_type": "code",
   "execution_count": null,
   "metadata": {},
   "outputs": [],
   "source": [
    "def show_image():\n",
    "    from random import randint\n",
    "    index = randint(0, 60000)\n",
    "    plt.figure(figsize=(1,1))\n",
    "    plt.imshow(train_images[index],cmap='gray')\n",
    "    plt.title(f'label: {train_labels[index]}')\n",
    "    plt.grid(False)\n",
    "    plt.axis('off')\n",
    "    plt.show()\n",
    "show_image()\n"
   ]
  },
  {
   "cell_type": "code",
   "execution_count": null,
   "metadata": {},
   "outputs": [],
   "source": [
    "train_images[0]"
   ]
  },
  {
   "cell_type": "code",
   "execution_count": null,
   "metadata": {},
   "outputs": [],
   "source": [
    "# normalize the images (0-255) to (0-1)\n",
    "train_images = train_images / 255.0\n",
    "test_images = test_images / 255.0"
   ]
  },
  {
   "cell_type": "code",
   "execution_count": null,
   "metadata": {},
   "outputs": [],
   "source": [
    "train_images.shape"
   ]
  },
  {
   "cell_type": "code",
   "execution_count": null,
   "metadata": {},
   "outputs": [],
   "source": [
    "train_images = train_images.reshape(train_images.shape[0],28, 28, 1)\n",
    "test_images = test_images.reshape(test_images.shape[0],28,28,1)"
   ]
  },
  {
   "cell_type": "code",
   "execution_count": null,
   "metadata": {},
   "outputs": [],
   "source": [
    "# cnn model\n",
    "model = tf.keras.models.Sequential([\n",
    "    tf.keras.layers.Conv2D(32, (3,3), activation='relu', input_shape=train_images.shape[1:]),\n",
    "    tf.keras.layers.MaxPooling2D(2,2),\n",
    "    tf.keras.layers.Conv2D(64, (3,3), activation='relu'),\n",
    "    tf.keras.layers.MaxPooling2D(2, 2),\n",
    "    tf.keras.layers.Flatten(),\n",
    "    tf.keras.layers.Dense(128, activation='relu'),\n",
    "    tf.keras.layers.Dense(10, activation='softmax') # output layer\n",
    "])\n",
    "model.compile(\n",
    "    optimizer = 'adam',\n",
    "    loss='sparse_categorical_crossentropy',\n",
    "    metrics=['accuracy']\n",
    ")\n",
    "model.summary()"
   ]
  },
  {
   "cell_type": "code",
   "execution_count": null,
   "metadata": {},
   "outputs": [],
   "source": [
    "epochs = 1\n",
    "batch_size = 32\n",
    "val_size = 0.2\n",
    "patience = 5\n",
    "es = tf.keras.callbacks.EarlyStopping(monitor='val_loss', patience=patience)\n",
    "board = tf.keras.callbacks.TensorBoard(log_dir='logs',histogram_freq=1)\n",
    "history = model.fit(\n",
    "    train_images, train_labels,\n",
    "    epochs = epochs,\n",
    "    batch_size=batch_size,\n",
    "    validation_split=val_size,\n",
    "    callbacks=[es,board],\n",
    "    verbose=1,\n",
    ")"
   ]
  },
  {
   "cell_type": "code",
   "execution_count": null,
   "metadata": {},
   "outputs": [],
   "source": [
    "# evaluate the model\n",
    "model.evaluate(test_images, test_labels)"
   ]
  },
  {
   "cell_type": "code",
   "execution_count": null,
   "metadata": {},
   "outputs": [],
   "source": [
    "from PIL import Image\n",
    "def predict_img(img_path):\n",
    "    class_names=['T-shirt/top','Trouser','Pullover','Dress',\n",
    "                 'Coat','Sandal','Shirt','Sneaker','Bag',\n",
    "                 'Ankel Boot']\n",
    "    img=Image.open(img_path).covert('L')            # Load and make it grayscale\n",
    "    img = img.resize((28,28))\n",
    "    img = np.array(img)\n",
    "    img = img/255.0\n",
    "    img=img.reshape(1,28,28,1)\n",
    "    prediction = model.predict(img)\n",
    "    name = class_names[np.argmax(prediction)]\n",
    "    return{\n",
    "        'prediction':np.argmax(prediction),\n",
    "        'confidence': np.max(prediction),\n",
    "        'name':name\n",
    "    }"
   ]
  },
  {
   "cell_type": "code",
   "execution_count": null,
   "metadata": {},
   "outputs": [],
   "source": [
    "img1=r\"C:\\Users\\Hp/ts\""
   ]
  },
  {
   "cell_type": "code",
   "execution_count": null,
   "metadata": {},
   "outputs": [],
   "source": [
    "test_images[0].shape"
   ]
  },
  {
   "cell_type": "code",
   "execution_count": null,
   "metadata": {},
   "outputs": [],
   "source": [
    "ans = model.predict(test_images[0].reshape(1,28,28,1))\n",
    "print(np.argmax(ans))\n",
    "class_names=['T-shirt/top','Trouser','Pullover','Dress',\n",
    "                 'Coat','Sandal','Shirt','Sneaker','Bag',\n",
    "                 'Ankel Boot']\n",
    "print(class_names[np.argmax(ans)])\n"
   ]
  },
  {
   "cell_type": "code",
   "execution_count": null,
   "metadata": {},
   "outputs": [],
   "source": [
    "plt.imshow(test_images[1].reshape(28,28),cmap='gray')"
   ]
  },
  {
   "cell_type": "code",
   "execution_count": null,
   "metadata": {},
   "outputs": [],
   "source": []
  }
 ],
 "metadata": {
  "kernelspec": {
   "display_name": "base",
   "language": "python",
   "name": "python3"
  },
  "language_info": {
   "codemirror_mode": {
    "name": "ipython",
    "version": 3
   },
   "file_extension": ".py",
   "mimetype": "text/x-python",
   "name": "python",
   "nbconvert_exporter": "python",
   "pygments_lexer": "ipython3",
   "version": "3.11.4"
  }
 },
 "nbformat": 4,
 "nbformat_minor": 2
}
